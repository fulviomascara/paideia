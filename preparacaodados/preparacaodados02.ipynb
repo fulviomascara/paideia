{
 "cells": [
  {
   "cell_type": "markdown",
   "metadata": {},
   "source": [
    "# Exercício 1"
   ]
  },
  {
   "cell_type": "code",
   "execution_count": 2,
   "metadata": {},
   "outputs": [],
   "source": [
    "# importar bibliotecas necessárias\n",
    "import pandas as pd\n",
    "import matplotlib.pyplot as plt\n",
    "import numpy as np"
   ]
  },
  {
   "cell_type": "code",
   "execution_count": null,
   "metadata": {},
   "outputs": [],
   "source": [
    "# setar configurações\n",
    "%matplotlib inline\n",
    "pd.options.display.max_rows = 6000\n",
    "pd.options.display.max_columns = 999"
   ]
  },
  {
   "cell_type": "code",
   "execution_count": null,
   "metadata": {},
   "outputs": [],
   "source": [
    "# carregar o dataframe df_brcities com o arquivo BRAZIL_CITIES.csv\n",
    "df_brcities = pd.read_csv(\"BRAZIL_CITIES.csv\", sep = \";\")"
   ]
  },
  {
   "cell_type": "code",
   "execution_count": null,
   "metadata": {},
   "outputs": [],
   "source": [
    "# visualizar linhas iniciais\n",
    "df_brcities.head(5)"
   ]
  },
  {
   "cell_type": "code",
   "execution_count": null,
   "metadata": {},
   "outputs": [],
   "source": [
    "# criar variável numerica da variavel categorica RURAL_URBAN (get_dummies)\n",
    "df_brcities = pd.get_dummies(df_brcities, columns = ['RURAL_URBAN'], prefix = ['Tipo_Area'], dummy_na=True)"
   ]
  },
  {
   "cell_type": "code",
   "execution_count": null,
   "metadata": {},
   "outputs": [],
   "source": [
    "df_brcities.head(5)"
   ]
  },
  {
   "cell_type": "code",
   "execution_count": null,
   "metadata": {},
   "outputs": [],
   "source": [
    "# criar variável numerica da variável categorica STATE (LabelEncoder)\n",
    "from sklearn.preprocessing import LabelEncoder\n",
    "le = LabelEncoder()\n",
    "df_brcities['STATE_NUM'] = le.fit_transform(df_brcities['STATE'])"
   ]
  },
  {
   "cell_type": "code",
   "execution_count": null,
   "metadata": {},
   "outputs": [],
   "source": [
    "df_brcities.head(5)"
   ]
  },
  {
   "cell_type": "markdown",
   "metadata": {},
   "source": [
    "# Selecionar subconjuntos"
   ]
  },
  {
   "cell_type": "code",
   "execution_count": null,
   "metadata": {},
   "outputs": [],
   "source": [
    "# Selecionar colunas específicas\n",
    "df_brcities[['STATE', 'CITY']].head(15)"
   ]
  },
  {
   "cell_type": "code",
   "execution_count": null,
   "metadata": {},
   "outputs": [],
   "source": [
    "# Colocar a coluna CITY\n",
    "df_brcities.set_index('CITY', inplace=True)"
   ]
  },
  {
   "cell_type": "code",
   "execution_count": null,
   "metadata": {},
   "outputs": [],
   "source": [
    "# Selecionar linha específica, pelo nome da cidade\n",
    "df_brcities.loc['São Paulo']"
   ]
  },
  {
   "cell_type": "code",
   "execution_count": null,
   "metadata": {},
   "outputs": [],
   "source": [
    "# Selecionar linhas específicas, pelo nome da cidade\n",
    "df_brcities.loc[['São Paulo', 'Rio De Janeiro']]"
   ]
  },
  {
   "cell_type": "code",
   "execution_count": null,
   "metadata": {},
   "outputs": [],
   "source": [
    "# Selecionar range de cidades\n",
    "df_brcities.loc['São Paulo':'Sorocaba']"
   ]
  },
  {
   "cell_type": "code",
   "execution_count": null,
   "metadata": {},
   "outputs": [],
   "source": [
    "# Selecionar range de cidades até um índice específico\n",
    "df_brcities.loc[:'Abaeté']"
   ]
  },
  {
   "cell_type": "code",
   "execution_count": null,
   "metadata": {},
   "outputs": [],
   "source": [
    "# Selecionar range de cidades a partir de um índice específico\n",
    "df_brcities.loc['Viana':]"
   ]
  },
  {
   "cell_type": "code",
   "execution_count": null,
   "metadata": {},
   "outputs": [],
   "source": [
    "# Selecionar range de cidades e colunas específicas\n",
    "df_brcities.loc[['São Paulo', 'São Paulo Das Missões'], ['STATE', 'GDP']]"
   ]
  },
  {
   "cell_type": "code",
   "execution_count": null,
   "metadata": {},
   "outputs": [],
   "source": [
    "# Selecionar cidades do RS e SC\n",
    "df_brcities[(df_brcities['STATE'] == 'RS') | (df_brcities['STATE'] == 'SC')]['STATE']"
   ]
  },
  {
   "cell_type": "markdown",
   "metadata": {},
   "source": [
    "# Agrupar e sumarizar"
   ]
  },
  {
   "cell_type": "code",
   "execution_count": null,
   "metadata": {},
   "outputs": [],
   "source": [
    "# Agrupar por STATE e RURAL_URBAN e somar TAXES \n",
    "df_brcities.groupby(['RURAL_URBAN', 'STATE'])['TAXES'].sum()"
   ]
  },
  {
   "cell_type": "code",
   "execution_count": null,
   "metadata": {},
   "outputs": [],
   "source": [
    "# Pivot Table por STATE e RURAL_URBAN e tirar a média de TAXES \n",
    "pd.pivot_table(df_brcities, index = ['STATE'], values = ['TAXES'], columns = ['RURAL_URBAN'], aggfunc=[np.mean], fill_value = 0)"
   ]
  },
  {
   "cell_type": "markdown",
   "metadata": {},
   "source": [
    "# Manipulação de Datas"
   ]
  },
  {
   "cell_type": "code",
   "execution_count": 3,
   "metadata": {},
   "outputs": [],
   "source": [
    "# Ler arquivo de temperaturas\n",
    "df_temp = pd.read_excel('temperature.xlsx')"
   ]
  },
  {
   "cell_type": "code",
   "execution_count": 4,
   "metadata": {},
   "outputs": [],
   "source": [
    "# Criar colunas com partes da data e hora\n",
    "df_temp['ano'] = pd.DatetimeIndex(df_temp['data']).year\n",
    "df_temp['mes'] = pd.DatetimeIndex(df_temp['data']).month\n",
    "df_temp['dia'] = pd.DatetimeIndex(df_temp['data']).day\n",
    "df_temp['hora'] = pd.DatetimeIndex(df_temp['data']).hour\n",
    "df_temp['minuto'] = pd.DatetimeIndex(df_temp['data']).minute\n",
    "df_temp['segundo'] = pd.DatetimeIndex(df_temp['data']).second\n",
    "df_temp['diasemana'] = pd.DatetimeIndex(df_temp['data']).weekday"
   ]
  },
  {
   "cell_type": "code",
   "execution_count": 5,
   "metadata": {},
   "outputs": [],
   "source": [
    "# Colocar data como indice\n",
    "df_temp.set_index('data', inplace=True)"
   ]
  },
  {
   "cell_type": "code",
   "execution_count": 6,
   "metadata": {},
   "outputs": [
    {
     "data": {
      "text/html": [
       "<div>\n",
       "<style scoped>\n",
       "    .dataframe tbody tr th:only-of-type {\n",
       "        vertical-align: middle;\n",
       "    }\n",
       "\n",
       "    .dataframe tbody tr th {\n",
       "        vertical-align: top;\n",
       "    }\n",
       "\n",
       "    .dataframe thead th {\n",
       "        text-align: right;\n",
       "    }\n",
       "</style>\n",
       "<table border=\"1\" class=\"dataframe\">\n",
       "  <thead>\n",
       "    <tr style=\"text-align: right;\">\n",
       "      <th></th>\n",
       "      <th>temperatura</th>\n",
       "      <th>umidade</th>\n",
       "      <th>ano</th>\n",
       "      <th>mes</th>\n",
       "      <th>dia</th>\n",
       "      <th>hora</th>\n",
       "      <th>minuto</th>\n",
       "      <th>segundo</th>\n",
       "      <th>diasemana</th>\n",
       "    </tr>\n",
       "    <tr>\n",
       "      <th>data</th>\n",
       "      <th></th>\n",
       "      <th></th>\n",
       "      <th></th>\n",
       "      <th></th>\n",
       "      <th></th>\n",
       "      <th></th>\n",
       "      <th></th>\n",
       "      <th></th>\n",
       "      <th></th>\n",
       "    </tr>\n",
       "  </thead>\n",
       "  <tbody>\n",
       "    <tr>\n",
       "      <th>2019-01-10 10:00:00</th>\n",
       "      <td>22</td>\n",
       "      <td>65</td>\n",
       "      <td>2019</td>\n",
       "      <td>1</td>\n",
       "      <td>10</td>\n",
       "      <td>10</td>\n",
       "      <td>0</td>\n",
       "      <td>0</td>\n",
       "      <td>3</td>\n",
       "    </tr>\n",
       "    <tr>\n",
       "      <th>2019-01-15 14:30:00</th>\n",
       "      <td>26</td>\n",
       "      <td>61</td>\n",
       "      <td>2019</td>\n",
       "      <td>1</td>\n",
       "      <td>15</td>\n",
       "      <td>14</td>\n",
       "      <td>30</td>\n",
       "      <td>0</td>\n",
       "      <td>1</td>\n",
       "    </tr>\n",
       "    <tr>\n",
       "      <th>2019-02-01 15:30:00</th>\n",
       "      <td>35</td>\n",
       "      <td>46</td>\n",
       "      <td>2019</td>\n",
       "      <td>2</td>\n",
       "      <td>1</td>\n",
       "      <td>15</td>\n",
       "      <td>30</td>\n",
       "      <td>0</td>\n",
       "      <td>4</td>\n",
       "    </tr>\n",
       "    <tr>\n",
       "      <th>2019-02-03 09:00:00</th>\n",
       "      <td>35</td>\n",
       "      <td>70</td>\n",
       "      <td>2019</td>\n",
       "      <td>2</td>\n",
       "      <td>3</td>\n",
       "      <td>9</td>\n",
       "      <td>0</td>\n",
       "      <td>0</td>\n",
       "      <td>6</td>\n",
       "    </tr>\n",
       "    <tr>\n",
       "      <th>2019-03-08 14:50:00</th>\n",
       "      <td>24</td>\n",
       "      <td>56</td>\n",
       "      <td>2019</td>\n",
       "      <td>3</td>\n",
       "      <td>8</td>\n",
       "      <td>14</td>\n",
       "      <td>50</td>\n",
       "      <td>0</td>\n",
       "      <td>4</td>\n",
       "    </tr>\n",
       "    <tr>\n",
       "      <th>2019-03-25 23:45:00</th>\n",
       "      <td>10</td>\n",
       "      <td>46</td>\n",
       "      <td>2019</td>\n",
       "      <td>3</td>\n",
       "      <td>25</td>\n",
       "      <td>23</td>\n",
       "      <td>45</td>\n",
       "      <td>0</td>\n",
       "      <td>0</td>\n",
       "    </tr>\n",
       "    <tr>\n",
       "      <th>2019-04-04 02:10:00</th>\n",
       "      <td>32</td>\n",
       "      <td>53</td>\n",
       "      <td>2019</td>\n",
       "      <td>4</td>\n",
       "      <td>4</td>\n",
       "      <td>2</td>\n",
       "      <td>10</td>\n",
       "      <td>0</td>\n",
       "      <td>3</td>\n",
       "    </tr>\n",
       "    <tr>\n",
       "      <th>2019-04-13 12:47:00</th>\n",
       "      <td>32</td>\n",
       "      <td>65</td>\n",
       "      <td>2019</td>\n",
       "      <td>4</td>\n",
       "      <td>13</td>\n",
       "      <td>12</td>\n",
       "      <td>47</td>\n",
       "      <td>0</td>\n",
       "      <td>5</td>\n",
       "    </tr>\n",
       "    <tr>\n",
       "      <th>2019-04-28 13:30:00</th>\n",
       "      <td>35</td>\n",
       "      <td>58</td>\n",
       "      <td>2019</td>\n",
       "      <td>4</td>\n",
       "      <td>28</td>\n",
       "      <td>13</td>\n",
       "      <td>30</td>\n",
       "      <td>0</td>\n",
       "      <td>6</td>\n",
       "    </tr>\n",
       "    <tr>\n",
       "      <th>2019-05-01 06:45:00</th>\n",
       "      <td>23</td>\n",
       "      <td>42</td>\n",
       "      <td>2019</td>\n",
       "      <td>5</td>\n",
       "      <td>1</td>\n",
       "      <td>6</td>\n",
       "      <td>45</td>\n",
       "      <td>0</td>\n",
       "      <td>2</td>\n",
       "    </tr>\n",
       "    <tr>\n",
       "      <th>2019-05-02 21:20:00</th>\n",
       "      <td>30</td>\n",
       "      <td>62</td>\n",
       "      <td>2019</td>\n",
       "      <td>5</td>\n",
       "      <td>2</td>\n",
       "      <td>21</td>\n",
       "      <td>20</td>\n",
       "      <td>0</td>\n",
       "      <td>3</td>\n",
       "    </tr>\n",
       "    <tr>\n",
       "      <th>2019-05-05 18:13:00</th>\n",
       "      <td>30</td>\n",
       "      <td>69</td>\n",
       "      <td>2019</td>\n",
       "      <td>5</td>\n",
       "      <td>5</td>\n",
       "      <td>18</td>\n",
       "      <td>13</td>\n",
       "      <td>0</td>\n",
       "      <td>6</td>\n",
       "    </tr>\n",
       "    <tr>\n",
       "      <th>2019-05-13 17:00:00</th>\n",
       "      <td>11</td>\n",
       "      <td>69</td>\n",
       "      <td>2019</td>\n",
       "      <td>5</td>\n",
       "      <td>13</td>\n",
       "      <td>17</td>\n",
       "      <td>0</td>\n",
       "      <td>0</td>\n",
       "      <td>0</td>\n",
       "    </tr>\n",
       "  </tbody>\n",
       "</table>\n",
       "</div>"
      ],
      "text/plain": [
       "                     temperatura  umidade   ano  mes  dia  hora  minuto  \\\n",
       "data                                                                      \n",
       "2019-01-10 10:00:00           22       65  2019    1   10    10       0   \n",
       "2019-01-15 14:30:00           26       61  2019    1   15    14      30   \n",
       "2019-02-01 15:30:00           35       46  2019    2    1    15      30   \n",
       "2019-02-03 09:00:00           35       70  2019    2    3     9       0   \n",
       "2019-03-08 14:50:00           24       56  2019    3    8    14      50   \n",
       "2019-03-25 23:45:00           10       46  2019    3   25    23      45   \n",
       "2019-04-04 02:10:00           32       53  2019    4    4     2      10   \n",
       "2019-04-13 12:47:00           32       65  2019    4   13    12      47   \n",
       "2019-04-28 13:30:00           35       58  2019    4   28    13      30   \n",
       "2019-05-01 06:45:00           23       42  2019    5    1     6      45   \n",
       "2019-05-02 21:20:00           30       62  2019    5    2    21      20   \n",
       "2019-05-05 18:13:00           30       69  2019    5    5    18      13   \n",
       "2019-05-13 17:00:00           11       69  2019    5   13    17       0   \n",
       "\n",
       "                     segundo  diasemana  \n",
       "data                                     \n",
       "2019-01-10 10:00:00        0          3  \n",
       "2019-01-15 14:30:00        0          1  \n",
       "2019-02-01 15:30:00        0          4  \n",
       "2019-02-03 09:00:00        0          6  \n",
       "2019-03-08 14:50:00        0          4  \n",
       "2019-03-25 23:45:00        0          0  \n",
       "2019-04-04 02:10:00        0          3  \n",
       "2019-04-13 12:47:00        0          5  \n",
       "2019-04-28 13:30:00        0          6  \n",
       "2019-05-01 06:45:00        0          2  \n",
       "2019-05-02 21:20:00        0          3  \n",
       "2019-05-05 18:13:00        0          6  \n",
       "2019-05-13 17:00:00        0          0  "
      ]
     },
     "execution_count": 6,
     "metadata": {},
     "output_type": "execute_result"
    }
   ],
   "source": [
    "# Visualizar Data Frame\n",
    "df_temp"
   ]
  },
  {
   "cell_type": "code",
   "execution_count": null,
   "metadata": {},
   "outputs": [],
   "source": [
    "# Extrair média por mês\n",
    "df_temp.resample('MS').mean()"
   ]
  }
 ],
 "metadata": {
  "kernelspec": {
   "display_name": "Python 3",
   "language": "python",
   "name": "python3"
  },
  "language_info": {
   "codemirror_mode": {
    "name": "ipython",
    "version": 3
   },
   "file_extension": ".py",
   "mimetype": "text/x-python",
   "name": "python",
   "nbconvert_exporter": "python",
   "pygments_lexer": "ipython3",
   "version": "3.7.4"
  }
 },
 "nbformat": 4,
 "nbformat_minor": 4
}
