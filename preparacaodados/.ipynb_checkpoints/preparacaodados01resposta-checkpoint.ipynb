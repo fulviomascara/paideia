{
 "cells": [
  {
   "cell_type": "markdown",
   "metadata": {},
   "source": [
    "# Exercício 1 "
   ]
  },
  {
   "cell_type": "code",
   "execution_count": 9,
   "metadata": {},
   "outputs": [],
   "source": [
    "# importar bibliotecas necessárias\n",
    "import pandas as pd\n",
    "import matplotlib.pyplot as plt"
   ]
  },
  {
   "cell_type": "code",
   "execution_count": 10,
   "metadata": {},
   "outputs": [],
   "source": [
    "# setar configurações\n",
    "%matplotlib inline\n",
    "pd.options.display.max_rows = 6000\n",
    "pd.options.display.max_columns = 999"
   ]
  },
  {
   "cell_type": "code",
   "execution_count": 11,
   "metadata": {},
   "outputs": [],
   "source": [
    "# carregar o dataframe df_brcities com o arquivo BRAZIL_CITIES.csv\n",
    "\n",
    "# Com a opção abaixo, não é necessário fazer o Exercício 7, pois na importação do arquivo \n",
    "# o pandas já reconhece que a vírgula é o separador de milhar (padrão americano) e traz o campo AREA como numero\n",
    "# df_brcities = pd.read_csv(\"BRAZIL_CITIES.csv\", sep = \";\", thousands=',')\n",
    "\n",
    "# Com a opção abaixo, é necessário fazer o Exercício 7, pois na importação do arquivo \n",
    "# o pandas reconhece o campo AREA como texto\n",
    "df_brcities = pd.read_csv(\"BRAZIL_CITIES.csv\", sep = \";\")"
   ]
  },
  {
   "cell_type": "code",
   "execution_count": null,
   "metadata": {},
   "outputs": [],
   "source": [
    "# visualizar informação do dataframe df_brcities\n",
    "df_brcities.info()"
   ]
  },
  {
   "cell_type": "markdown",
   "metadata": {},
   "source": [
    "# Exercício 2"
   ]
  },
  {
   "cell_type": "code",
   "execution_count": null,
   "metadata": {},
   "outputs": [],
   "source": [
    "# Carregar o dataframe df_dictionary com o arquivo data_dictionary.csv\n",
    "df_dictionary = pd.read_csv(\"data_dictionary.csv\", sep = \";\")"
   ]
  },
  {
   "cell_type": "code",
   "execution_count": null,
   "metadata": {},
   "outputs": [],
   "source": [
    "# Visualizar todo o dataframe df_dictionary, para identificar tipos de variáveis\n",
    "df_dictionary"
   ]
  },
  {
   "cell_type": "code",
   "execution_count": null,
   "metadata": {},
   "outputs": [],
   "source": [
    "# Visualizar as 15 primeiras linhas do df_brcities para identificar tipos de variáveis\n",
    "df_brcities.head(15)"
   ]
  },
  {
   "cell_type": "code",
   "execution_count": null,
   "metadata": {},
   "outputs": [],
   "source": [
    "# Criar dataframe df_brresumo, com as colunas CITY, STATE, CAPITAL, + 3 variáveis qualitativas nominais, + 3 variáveis qualitativas ordinais,\n",
    "# + 3 variáveis quantitativas discretas, + 3 variáveis quantitativas contínuas\n",
    "df_brresumo = df_brcities[['CITY', 'STATE', 'CAPITAL', 'REGIAO_TUR', 'RURAL_URBAN', 'GVA_MAIN', 'COMP_TOT', 'ESTIMATED_POP', 'PAY_TV', 'MUN_EXPENDIT', 'AREA', 'IDHM']].copy()"
   ]
  },
  {
   "cell_type": "code",
   "execution_count": null,
   "metadata": {},
   "outputs": [],
   "source": [
    "# Visualizar as 30 primeiras linhas do dataframe df_brresumo\n",
    "df_brresumo.head(30)"
   ]
  },
  {
   "cell_type": "markdown",
   "metadata": {},
   "source": [
    "# Exercício 3"
   ]
  },
  {
   "cell_type": "code",
   "execution_count": null,
   "metadata": {},
   "outputs": [],
   "source": [
    "# Média da variável GDP_CAPITA, com base no dataframe df_brcities\n",
    "df_brcities['GDP_CAPITA'].mean()"
   ]
  },
  {
   "cell_type": "code",
   "execution_count": null,
   "metadata": {},
   "outputs": [],
   "source": [
    "# Mediana da variável COMP_TOT, com base no dataframe df_brcities\n",
    "df_brcities['COMP_TOT'].median()"
   ]
  },
  {
   "cell_type": "code",
   "execution_count": null,
   "metadata": {},
   "outputs": [],
   "source": [
    "# Valores possíveis para a variável categórica / qualitativa RURAL_URBAN\n",
    "df_brcities['RURAL_URBAN'].unique()"
   ]
  },
  {
   "cell_type": "code",
   "execution_count": null,
   "metadata": {},
   "outputs": [],
   "source": [
    "# Moda da variável RURAL_URBAN, com base no dataframe df_brcities\n",
    "df_brcities['RURAL_URBAN'].mode()"
   ]
  },
  {
   "cell_type": "markdown",
   "metadata": {},
   "source": [
    "# Exercício 4"
   ]
  },
  {
   "cell_type": "code",
   "execution_count": null,
   "metadata": {},
   "outputs": [],
   "source": [
    "# Variância da variável GDP_CAPITA, com base no dataframe df_brcities\n",
    "df_brcities['GDP_CAPITA'].var()"
   ]
  },
  {
   "cell_type": "code",
   "execution_count": null,
   "metadata": {},
   "outputs": [],
   "source": [
    "# Desvio padrão da variável GDP_CAPITA, com base no dataframe df_brcities\n",
    "df_brcities['GDP_CAPITA'].std()"
   ]
  },
  {
   "cell_type": "code",
   "execution_count": null,
   "metadata": {},
   "outputs": [],
   "source": [
    "# Variância da variável POST_OFFICES, com base no dataframe df_brcities\n",
    "df_brcities['POST_OFFICES'].var()"
   ]
  },
  {
   "cell_type": "code",
   "execution_count": null,
   "metadata": {},
   "outputs": [],
   "source": [
    "# Desvio padrão da variável POST_OFFICES, com base no dataframe df_brcities\n",
    "df_brcities['POST_OFFICES'].std()"
   ]
  },
  {
   "cell_type": "code",
   "execution_count": null,
   "metadata": {},
   "outputs": [],
   "source": [
    "# Comparar variância SP e RJ\n",
    "var_sp = df_brcities[df_brcities['STATE'] == 'SP']['GDP_CAPITA'].var()\n",
    "var_rj = df_brcities[df_brcities['STATE'] == 'RJ']['GDP_CAPITA'].var()\n",
    "print(\"Variância SP: {}\".format(var_sp))\n",
    "print(\"Variância RJ: {}\".format(var_rj))"
   ]
  },
  {
   "cell_type": "code",
   "execution_count": null,
   "metadata": {},
   "outputs": [],
   "source": [
    "# Comparar desvio padrão SP e RJ\n",
    "std_sp = df_brcities[df_brcities['STATE'] == 'SP']['GDP_CAPITA'].std()\n",
    "std_rj = df_brcities[df_brcities['STATE'] == 'RJ']['GDP_CAPITA'].std()\n",
    "print(\"Desvio Padrão SP: {}\".format(std_sp))\n",
    "print(\"Desvio Padrão RJ: {}\".format(std_rj))"
   ]
  },
  {
   "cell_type": "code",
   "execution_count": null,
   "metadata": {},
   "outputs": [],
   "source": [
    "# Mostrar todas as medidas resumo da variável GDP_CAPITA\n",
    "df_brcities['GDP_CAPITA'].describe()"
   ]
  },
  {
   "cell_type": "markdown",
   "metadata": {},
   "source": [
    "# Exercício 5"
   ]
  },
  {
   "cell_type": "code",
   "execution_count": null,
   "metadata": {},
   "outputs": [],
   "source": [
    "# Copia do dataframe df_brcities para df_mac\n",
    "df_mac = df_brcities[['CITY', 'STATE', 'CAPITAL', 'ESTIMATED_POP', 'MAC']].copy()"
   ]
  },
  {
   "cell_type": "code",
   "execution_count": null,
   "metadata": {},
   "outputs": [],
   "source": [
    "df_mac.describe()"
   ]
  },
  {
   "cell_type": "code",
   "execution_count": null,
   "metadata": {},
   "outputs": [],
   "source": [
    "# Eliminar todas as linhas do dataframe df_mac, onde o campo MAC seja nulo\n",
    "df_mac.dropna(subset=['MAC'], how='any', inplace=True)"
   ]
  },
  {
   "cell_type": "code",
   "execution_count": null,
   "metadata": {},
   "outputs": [],
   "source": [
    "# Copia do dataframe df_brcities para df_uber\n",
    "df_uber = df_brcities[['CITY', 'STATE', 'CAPITAL', 'ESTIMATED_POP', 'UBER']].copy()"
   ]
  },
  {
   "cell_type": "code",
   "execution_count": null,
   "metadata": {},
   "outputs": [],
   "source": [
    "df_uber.info()"
   ]
  },
  {
   "cell_type": "code",
   "execution_count": null,
   "metadata": {},
   "outputs": [],
   "source": [
    "# Eliminar coluna do dataset se ao menos um valor for nulo\n",
    "df_uber.dropna(axis=1, how='any', inplace=True)"
   ]
  },
  {
   "cell_type": "code",
   "execution_count": null,
   "metadata": {},
   "outputs": [],
   "source": [
    "# Copia do dataframe df_brcities para df_anyna\n",
    "df_anyna = df_brcities.copy()"
   ]
  },
  {
   "cell_type": "code",
   "execution_count": null,
   "metadata": {},
   "outputs": [],
   "source": [
    "# Eliminar linhas do dataset se ao menos um valor for nulo\n",
    "df_anyna.dropna(axis=0, how='any', inplace=True)"
   ]
  },
  {
   "cell_type": "code",
   "execution_count": null,
   "metadata": {},
   "outputs": [],
   "source": [
    "# Copia do dataframe df_brcities para df_thresna\n",
    "df_thresna = df_brcities.copy()"
   ]
  },
  {
   "cell_type": "code",
   "execution_count": null,
   "metadata": {},
   "outputs": [],
   "source": [
    "# Eliminar linhas do dataset que tenham mais de 5 valores nulos\n",
    "df_thresna.dropna(axis=0, how='any', thresh=5, inplace=True)"
   ]
  },
  {
   "cell_type": "markdown",
   "metadata": {},
   "source": [
    "# Exercício 6"
   ]
  },
  {
   "cell_type": "code",
   "execution_count": null,
   "metadata": {},
   "outputs": [],
   "source": [
    "# Copia do dataframe df_brcities para df_postoffices\n",
    "df_postoffices = df_brcities[['CITY', 'STATE', 'CAPITAL', 'ESTIMATED_POP', 'POST_OFFICES']].copy()"
   ]
  },
  {
   "cell_type": "code",
   "execution_count": null,
   "metadata": {},
   "outputs": [],
   "source": [
    "# Media de POST_OFFICES\n",
    "df_postoffices['POST_OFFICES'].mean()"
   ]
  },
  {
   "cell_type": "code",
   "execution_count": null,
   "metadata": {},
   "outputs": [],
   "source": [
    "# Contar valores nulos de POST_OFFICES\n",
    "df_postoffices['POST_OFFICES'].isna().sum()"
   ]
  },
  {
   "cell_type": "code",
   "execution_count": null,
   "metadata": {},
   "outputs": [],
   "source": [
    "# Contar valores nulos de POST_OFFICES\n",
    "df_postoffices[df_postoffices['POST_OFFICES'].isna()].count()"
   ]
  },
  {
   "cell_type": "code",
   "execution_count": null,
   "metadata": {},
   "outputs": [],
   "source": [
    "# Preencher dados nulos de POST_OFFICES com média de POST_OFFICES\n",
    "df_postoffices['POST_OFFICES'].fillna(df_postoffices['POST_OFFICES'].mean(), inplace = True)"
   ]
  },
  {
   "cell_type": "code",
   "execution_count": null,
   "metadata": {},
   "outputs": [],
   "source": [
    "# Media de POST_OFFICES\n",
    "df_postoffices['POST_OFFICES'].mean()"
   ]
  },
  {
   "cell_type": "markdown",
   "metadata": {},
   "source": [
    "# Exercício 7"
   ]
  },
  {
   "cell_type": "code",
   "execution_count": 19,
   "metadata": {},
   "outputs": [],
   "source": [
    "# Caso o arquivo não tenha sido importado com o parâmetro thousand\n",
    "\n",
    "# Primeiro, substituir o caracter virgula por nulo, usando replace\n",
    "df_brcities['AREA'] = df_brcities['AREA'].str.replace(',', '')\n",
    "\n",
    "# Segundo, alterar tipo da variável AREA para float64, usando astype\n",
    "df_brcities['AREA'] = df_brcities['AREA'].astype('float')"
   ]
  },
  {
   "cell_type": "markdown",
   "metadata": {},
   "source": [
    "# Exercício 8"
   ]
  },
  {
   "cell_type": "code",
   "execution_count": null,
   "metadata": {},
   "outputs": [],
   "source": [
    "# Criar uma variável MAC_PERCAPITA, no dataframe df_mac, contendo o calculo ESTIMATED_POP / MAC\n",
    "df_mac['MAC_PERCAPITA'] = df_mac['ESTIMATED_POP'] / df_mac['MAC']"
   ]
  },
  {
   "cell_type": "code",
   "execution_count": null,
   "metadata": {},
   "outputs": [],
   "source": [
    "# Criar uma variável CITY_STATE, no dataframe df_brcities, contendo CITY + \" \" + STATE\n",
    "df_brcities['CITY_STATE'] = df_brcities['CITY'] + \" - \" + df_brcities['STATE']"
   ]
  },
  {
   "cell_type": "markdown",
   "metadata": {},
   "source": [
    "# Exercício 9"
   ]
  },
  {
   "cell_type": "code",
   "execution_count": null,
   "metadata": {},
   "outputs": [],
   "source": [
    "df_mac.info()"
   ]
  },
  {
   "cell_type": "code",
   "execution_count": null,
   "metadata": {},
   "outputs": [],
   "source": [
    "# Renomear as colunas do dataframe df_mac\n",
    "df_mac.columns = ['Cidade', 'UF', 'Capital', 'Populacao_estimada', 'Qtde_MacDonalds', 'CidadaosPorMac']"
   ]
  },
  {
   "cell_type": "code",
   "execution_count": null,
   "metadata": {},
   "outputs": [],
   "source": [
    "df_mac.info()"
   ]
  },
  {
   "cell_type": "code",
   "execution_count": null,
   "metadata": {},
   "outputs": [],
   "source": [
    "# Renomear colunas específicas do dataframe df_brcities\n",
    "df_brcities.rename(columns = \n",
    "   {\"CITY\" : \"Cidade\",\n",
    "    \"STATE\" : \"UF\",\n",
    "    \"CAPITAL\" : \"Capital\"\n",
    "     }, inplace=True)"
   ]
  },
  {
   "cell_type": "code",
   "execution_count": null,
   "metadata": {},
   "outputs": [],
   "source": [
    "df_brcities.info()"
   ]
  },
  {
   "cell_type": "markdown",
   "metadata": {},
   "source": [
    "# Exercício 10"
   ]
  },
  {
   "cell_type": "code",
   "execution_count": null,
   "metadata": {},
   "outputs": [],
   "source": [
    "# Fazer copia do dataframe df_brcities para df_remove\n",
    "df_remove = df_brcities.copy()"
   ]
  },
  {
   "cell_type": "code",
   "execution_count": null,
   "metadata": {},
   "outputs": [],
   "source": [
    "df_remove.info()"
   ]
  },
  {
   "cell_type": "code",
   "execution_count": null,
   "metadata": {},
   "outputs": [],
   "source": [
    "# Remover as colunas UBER, MAC, WAL-MART do dataframe df_remove\n",
    "df_remove.drop(['UBER', 'MAC', 'WAL-MART'], axis=1, inplace=True)"
   ]
  },
  {
   "cell_type": "code",
   "execution_count": null,
   "metadata": {},
   "outputs": [],
   "source": [
    "# Remover as linhas do dataframe df_remove, onde UF = 'SP'\n",
    "df_remove.drop(df_remove[df_remove.UF == 'SP'].index, inplace=True)"
   ]
  },
  {
   "cell_type": "markdown",
   "metadata": {},
   "source": [
    "# Exercício 11"
   ]
  },
  {
   "cell_type": "code",
   "execution_count": null,
   "metadata": {},
   "outputs": [],
   "source": [
    "# Exportar dataframe df_postoffices para CSV\n",
    "df_postoffices.to_csv('postoffices.csv')"
   ]
  },
  {
   "cell_type": "code",
   "execution_count": null,
   "metadata": {},
   "outputs": [],
   "source": [
    "# Exportar dataframe df_brcities para Excel\n",
    "df_brcities.to_excel('brcities.xlsx')"
   ]
  }
 ],
 "metadata": {
  "kernelspec": {
   "display_name": "Python 3",
   "language": "python",
   "name": "python3"
  },
  "language_info": {
   "codemirror_mode": {
    "name": "ipython",
    "version": 3
   },
   "file_extension": ".py",
   "mimetype": "text/x-python",
   "name": "python",
   "nbconvert_exporter": "python",
   "pygments_lexer": "ipython3",
   "version": "3.7.4"
  }
 },
 "nbformat": 4,
 "nbformat_minor": 4
}
