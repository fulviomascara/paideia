{
 "cells": [
  {
   "cell_type": "markdown",
   "metadata": {},
   "source": [
    "## Regressão Linear Simples\n",
    "\n",
    "- Usaremos um dataset do Kaggle contendo o consumo de cerveja em São Paulo\n",
    "- Nosso objetivo é prever qual o consumo em litros, baseado na temperatura média"
   ]
  },
  {
   "cell_type": "code",
   "execution_count": 30,
   "metadata": {},
   "outputs": [],
   "source": [
    "# importar bibliotecas necessárias\n",
    "from sklearn import linear_model # importa o modelo de Regressão Linear\n",
    "from sklearn.model_selection import train_test_split # importa uma \n",
    "import pandas as pd\n",
    "import matplotlib.pyplot as plt\n",
    "import numpy as np"
   ]
  },
  {
   "cell_type": "code",
   "execution_count": 31,
   "metadata": {},
   "outputs": [],
   "source": [
    "# setar configurações\n",
    "%matplotlib inline\n",
    "pd.options.display.max_rows = 6000\n",
    "pd.options.display.max_columns = 999"
   ]
  },
  {
   "cell_type": "code",
   "execution_count": 32,
   "metadata": {},
   "outputs": [],
   "source": [
    "# Ler dataset para dataframe\n",
    "df_consumo = pd.read_csv(\"../datasets/Consumo_cerveja.csv\")"
   ]
  },
  {
   "cell_type": "code",
   "execution_count": 33,
   "metadata": {},
   "outputs": [
    {
     "name": "stdout",
     "output_type": "stream",
     "text": [
      "<class 'pandas.core.frame.DataFrame'>\n",
      "RangeIndex: 941 entries, 0 to 940\n",
      "Data columns (total 7 columns):\n",
      "Data                           365 non-null object\n",
      "Temperatura Media (C)          365 non-null object\n",
      "Temperatura Minima (C)         365 non-null object\n",
      "Temperatura Maxima (C)         365 non-null object\n",
      "Precipitacao (mm)              365 non-null object\n",
      "Final de Semana                365 non-null float64\n",
      "Consumo de cerveja (litros)    365 non-null float64\n",
      "dtypes: float64(2), object(5)\n",
      "memory usage: 51.6+ KB\n"
     ]
    }
   ],
   "source": [
    "# Verificar estrutura dataset\n",
    "df_consumo.info()"
   ]
  },
  {
   "cell_type": "code",
   "execution_count": 34,
   "metadata": {},
   "outputs": [],
   "source": [
    "# Ajustar nomes de variáveis\n",
    "df_consumo.columns = ['data', 'temp_media', 'temp_minima', 'temp_maxima', 'chuva', 'final_semana', 'consumo']"
   ]
  },
  {
   "cell_type": "code",
   "execution_count": 35,
   "metadata": {},
   "outputs": [],
   "source": [
    "# Eliminar linhas do dataset se ao menos um valor for nulo\n",
    "df_consumo.dropna(axis=0, how='any', inplace=True)"
   ]
  },
  {
   "cell_type": "code",
   "execution_count": 36,
   "metadata": {},
   "outputs": [
    {
     "data": {
      "text/html": [
       "<div>\n",
       "<style scoped>\n",
       "    .dataframe tbody tr th:only-of-type {\n",
       "        vertical-align: middle;\n",
       "    }\n",
       "\n",
       "    .dataframe tbody tr th {\n",
       "        vertical-align: top;\n",
       "    }\n",
       "\n",
       "    .dataframe thead th {\n",
       "        text-align: right;\n",
       "    }\n",
       "</style>\n",
       "<table border=\"1\" class=\"dataframe\">\n",
       "  <thead>\n",
       "    <tr style=\"text-align: right;\">\n",
       "      <th></th>\n",
       "      <th>data</th>\n",
       "      <th>temp_media</th>\n",
       "      <th>temp_minima</th>\n",
       "      <th>temp_maxima</th>\n",
       "      <th>chuva</th>\n",
       "      <th>final_semana</th>\n",
       "      <th>consumo</th>\n",
       "    </tr>\n",
       "  </thead>\n",
       "  <tbody>\n",
       "    <tr>\n",
       "      <th>0</th>\n",
       "      <td>2015-01-01</td>\n",
       "      <td>27,3</td>\n",
       "      <td>23,9</td>\n",
       "      <td>32,5</td>\n",
       "      <td>0</td>\n",
       "      <td>0.0</td>\n",
       "      <td>25.461</td>\n",
       "    </tr>\n",
       "    <tr>\n",
       "      <th>1</th>\n",
       "      <td>2015-01-02</td>\n",
       "      <td>27,02</td>\n",
       "      <td>24,5</td>\n",
       "      <td>33,5</td>\n",
       "      <td>0</td>\n",
       "      <td>0.0</td>\n",
       "      <td>28.972</td>\n",
       "    </tr>\n",
       "    <tr>\n",
       "      <th>2</th>\n",
       "      <td>2015-01-03</td>\n",
       "      <td>24,82</td>\n",
       "      <td>22,4</td>\n",
       "      <td>29,9</td>\n",
       "      <td>0</td>\n",
       "      <td>1.0</td>\n",
       "      <td>30.814</td>\n",
       "    </tr>\n",
       "    <tr>\n",
       "      <th>3</th>\n",
       "      <td>2015-01-04</td>\n",
       "      <td>23,98</td>\n",
       "      <td>21,5</td>\n",
       "      <td>28,6</td>\n",
       "      <td>1,2</td>\n",
       "      <td>1.0</td>\n",
       "      <td>29.799</td>\n",
       "    </tr>\n",
       "    <tr>\n",
       "      <th>4</th>\n",
       "      <td>2015-01-05</td>\n",
       "      <td>23,82</td>\n",
       "      <td>21</td>\n",
       "      <td>28,3</td>\n",
       "      <td>0</td>\n",
       "      <td>0.0</td>\n",
       "      <td>28.900</td>\n",
       "    </tr>\n",
       "  </tbody>\n",
       "</table>\n",
       "</div>"
      ],
      "text/plain": [
       "         data temp_media temp_minima temp_maxima chuva  final_semana  consumo\n",
       "0  2015-01-01       27,3        23,9        32,5     0           0.0   25.461\n",
       "1  2015-01-02      27,02        24,5        33,5     0           0.0   28.972\n",
       "2  2015-01-03      24,82        22,4        29,9     0           1.0   30.814\n",
       "3  2015-01-04      23,98        21,5        28,6   1,2           1.0   29.799\n",
       "4  2015-01-05      23,82          21        28,3     0           0.0   28.900"
      ]
     },
     "execution_count": 36,
     "metadata": {},
     "output_type": "execute_result"
    }
   ],
   "source": [
    "df_consumo.head()"
   ]
  },
  {
   "cell_type": "code",
   "execution_count": 37,
   "metadata": {},
   "outputs": [],
   "source": [
    "# Converter variáveis de temperatura e chuva para float\n",
    "\n",
    "# Primeiro, substituir o caracter virgula por nulo, usando replace\n",
    "df_consumo['temp_media'] = df_consumo['temp_media'].str.replace(',', '.')\n",
    "df_consumo['temp_minima'] = df_consumo['temp_minima'].str.replace(',', '.')\n",
    "df_consumo['temp_maxima'] = df_consumo['temp_maxima'].str.replace(',', '.')\n",
    "df_consumo['chuva'] = df_consumo['chuva'].str.replace(',', '.')\n",
    "\n",
    "# Segundo, converter para tipo Float\n",
    "df_consumo['temp_media'] = df_consumo['temp_media'].astype('float')\n",
    "df_consumo['temp_minima'] = df_consumo['temp_minima'].astype('float')\n",
    "df_consumo['temp_maxima'] = df_consumo['temp_maxima'].astype('float')\n",
    "df_consumo['chuva'] = df_consumo['chuva'].astype('float')"
   ]
  },
  {
   "cell_type": "markdown",
   "metadata": {},
   "source": [
    "### Dividir dataset entre treinamento e teste\n",
    "\n",
    "É muito comum termos que fazer essa divisão dos dados, principalmente quando estamos trabalhando com Machine Learning, pois, é necessário já que precisamos treinar o nosso modelo com uma partição dos dados e testar com outra.\n",
    "\n",
    "Além disso, precisamos separar a variável preditora (X) da variável resposta (y)"
   ]
  },
  {
   "cell_type": "code",
   "execution_count": 38,
   "metadata": {},
   "outputs": [],
   "source": [
    "# Definir X como sendo a variável preditora, no caso temp_media do Dataframe\n",
    "X = df_consumo[['temp_maxima']]\n",
    "\n",
    "# Definir y como sendo a variável resposta, no caso consumo do Dataframe\n",
    "y = df_consumo[['consumo']]\n",
    "\n",
    "# Vamos separar 70% dos dados para treinamento e 30% para teste\n",
    "X_treinamento, X_teste, y_treinamento, y_teste = train_test_split(X, y, test_size = 0.3, random_state = 42)"
   ]
  },
  {
   "cell_type": "markdown",
   "metadata": {},
   "source": [
    "### Criar um estimador do tipo Regressão Linear\n",
    "\n",
    "- Vamos criar um objeto de regressão linear, o qual usaremos para treinar um modelo com os dados de treinamento\n",
    "- Com este mesmo objeto, será validado este modelo com os dados de teste"
   ]
  },
  {
   "cell_type": "code",
   "execution_count": 39,
   "metadata": {},
   "outputs": [],
   "source": [
    "# Criar estimador de Regressão Linear\n",
    "modelo = linear_model.LinearRegression()"
   ]
  },
  {
   "cell_type": "markdown",
   "metadata": {},
   "source": [
    "### Treinar o modelo, informando a variável preditora (X) e variável resposta (y)\n",
    "\n",
    "Na maioria dos casos, o método **fit** é o método que faz o treinamento do modelo"
   ]
  },
  {
   "cell_type": "code",
   "execution_count": 40,
   "metadata": {},
   "outputs": [
    {
     "name": "stdout",
     "output_type": "stream",
     "text": [
      "m = 0.6, b = 9.2\n",
      "Equação da reta: y = 0.6x + 9.2\n"
     ]
    }
   ],
   "source": [
    "# Fazer o treinamento do modelo\n",
    "modelo.fit(X_treinamento, y_treinamento)\n",
    "\n",
    "# Mostrar a equação da reta\n",
    "m = modelo.coef_[0][0]\n",
    "b = modelo.intercept_[0]\n",
    "print(f'm = {m:.1f}, b = {b:.1f}')\n",
    "print(f'Equação da reta: y = {m:.1f}x + {b:.1f}')"
   ]
  },
  {
   "cell_type": "markdown",
   "metadata": {},
   "source": [
    "### Mostrar a reta da equação, com os pontos\n",
    "\n",
    "Considerando a equação que o modelo gerou, vamos usar o matplotlib para mostrar a correlação entre X e Y e a reta\n",
    "Pra isso, usaremos os dados de teste"
   ]
  },
  {
   "cell_type": "code",
   "execution_count": 41,
   "metadata": {},
   "outputs": [
    {
     "data": {
      "image/png": "[encoded data removed]",
      "text/plain": [
       "<Figure size 432x288 with 1 Axes>"
      ]
     },
     "metadata": {
      "needs_background": "light"
     },
     "output_type": "display_data"
    }
   ],
   "source": [
    "# Scatter plot da altura e peso de cada pessoa\n",
    "plt.scatter(X_teste, y_teste, color='black')\n",
    "\n",
    "# Gráfico de linha \n",
    "predicted_values = modelo.predict(X_teste)\n",
    "plt.plot(X_teste, predicted_values, color='blue')\n",
    "plt.xlabel('Temp. Média')\n",
    "plt.ylabel('Consumo')\n",
    "\n",
    "plt.show()"
   ]
  },
  {
   "cell_type": "code",
   "execution_count": 42,
   "metadata": {},
   "outputs": [
    {
     "data": {
      "text/plain": [
       "0.460115151855832"
      ]
     },
     "execution_count": 42,
     "metadata": {},
     "output_type": "execute_result"
    }
   ],
   "source": [
    "# Mostrar o score (acurácia) do modelo\n",
    "modelo.score(X_teste, y_teste)"
   ]
  },
  {
   "cell_type": "code",
   "execution_count": null,
   "metadata": {},
   "outputs": [],
   "source": []
  }
 ],
 "metadata": {
  "kernelspec": {
   "display_name": "Python 3",
   "language": "python",
   "name": "python3"
  },
  "language_info": {
   "codemirror_mode": {
    "name": "ipython",
    "version": 3
   },
   "file_extension": ".py",
   "mimetype": "text/x-python",
   "name": "python",
   "nbconvert_exporter": "python",
   "pygments_lexer": "ipython3",
   "version": "3.7.4"
  }
 },
 "nbformat": 4,
 "nbformat_minor": 4
}
