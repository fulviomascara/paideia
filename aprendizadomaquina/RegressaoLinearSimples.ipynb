{
 "cells": [
  {
   "cell_type": "markdown",
   "metadata": {},
   "source": [
    "## Regressão Linear Simples\n",
    "\n",
    "- Usaremos um dataset do Kaggle contendo o consumo de cerveja em São Paulo\n",
    "- Nosso objetivo é prever qual o consumo em litros, baseado na temperatura média"
   ]
  },
  {
   "cell_type": "code",
   "execution_count": 64,
   "metadata": {},
   "outputs": [],
   "source": [
    "# importar bibliotecas necessárias\n",
    "from sklearn import linear_model # importa o modelo de Regressão Linear\n",
    "from sklearn.model_selection import train_test_split # importa uma \n",
    "import pandas as pd\n",
    "import matplotlib.pyplot as plt\n",
    "import numpy as np"
   ]
  },
  {
   "cell_type": "code",
   "execution_count": 65,
   "metadata": {},
   "outputs": [],
   "source": [
    "# setar configurações\n",
    "%matplotlib inline\n",
    "pd.options.display.max_rows = 6000\n",
    "pd.options.display.max_columns = 999"
   ]
  },
  {
   "cell_type": "code",
   "execution_count": 66,
   "metadata": {},
   "outputs": [],
   "source": [
    "# Ler dataset para dataframe\n",
    "df_consumo = pd.read_csv(\"../datasets/Consumo_cerveja.csv\")"
   ]
  },
  {
   "cell_type": "code",
   "execution_count": 67,
   "metadata": {},
   "outputs": [
    {
     "name": "stdout",
     "output_type": "stream",
     "text": [
      "<class 'pandas.core.frame.DataFrame'>\n",
      "RangeIndex: 941 entries, 0 to 940\n",
      "Data columns (total 7 columns):\n",
      "Data                           365 non-null object\n",
      "Temperatura Media (C)          365 non-null object\n",
      "Temperatura Minima (C)         365 non-null object\n",
      "Temperatura Maxima (C)         365 non-null object\n",
      "Precipitacao (mm)              365 non-null object\n",
      "Final de Semana                365 non-null float64\n",
      "Consumo de cerveja (litros)    365 non-null float64\n",
      "dtypes: float64(2), object(5)\n",
      "memory usage: 51.6+ KB\n"
     ]
    }
   ],
   "source": [
    "# Verificar estrutura dataset\n",
    "df_consumo.info()"
   ]
  },
  {
   "cell_type": "code",
   "execution_count": 68,
   "metadata": {},
   "outputs": [],
   "source": [
    "# Ajustar nomes de variáveis\n",
    "df_consumo.columns = ['data', 'temp_media', 'temp_minima', 'temp_maxima', 'chuva', 'final_semana', 'consumo']"
   ]
  },
  {
   "cell_type": "code",
   "execution_count": 69,
   "metadata": {},
   "outputs": [],
   "source": [
    "# Eliminar linhas do dataset se ao menos um valor for nulo\n",
    "df_consumo.dropna(axis=0, how='any', inplace=True)"
   ]
  },
  {
   "cell_type": "code",
   "execution_count": 70,
   "metadata": {},
   "outputs": [],
   "source": [
    "# Converter variáveis de temperatura e chuva para float\n",
    "\n",
    "# Primeiro, substituir o caracter virgula por nulo, usando replace\n",
    "df_consumo['temp_media'] = df_consumo['temp_media'].str.replace(',', '.')\n",
    "df_consumo['temp_minima'] = df_consumo['temp_minima'].str.replace(',', '.')\n",
    "df_consumo['temp_maxima'] = df_consumo['temp_maxima'].str.replace(',', '.')\n",
    "df_consumo['chuva'] = df_consumo['chuva'].str.replace(',', '.')\n",
    "\n",
    "# Segundo, converter para tipo Float\n",
    "df_consumo['temp_media'] = df_consumo['temp_media'].astype('float')\n",
    "df_consumo['temp_minima'] = df_consumo['temp_minima'].astype('float')\n",
    "df_consumo['temp_maxima'] = df_consumo['temp_maxima'].astype('float')\n",
    "df_consumo['chuva'] = df_consumo['chuva'].astype('float')"
   ]
  },
  {
   "cell_type": "markdown",
   "metadata": {},
   "source": [
    "### Dividir dataset entre treinamento e teste\n",
    "\n",
    "É muito comum termos que fazer essa divisão dos dados, principalmente quando estamos trabalhando com Machine Learning, pois, é necessário já que precisamos treinar o nosso modelo com uma partição dos dados e testar com outra.\n",
    "\n",
    "Além disso, precisamos separar a variável preditora (X) da variável resposta (y)"
   ]
  },
  {
   "cell_type": "code",
   "execution_count": 71,
   "metadata": {},
   "outputs": [],
   "source": [
    "# Definir X como sendo a variável preditora, no caso temp_media do Dataframe\n",
    "X = df_consumo[['temp_media']]\n",
    "\n",
    "# Definir y como sendo a variável resposta, no caso consumo do Dataframe\n",
    "y = df_consumo[['consumo']]\n",
    "\n",
    "# Vamos separar 70% dos dados para treinamento e 30% para teste\n",
    "X_treinamento, X_teste, y_treinamento, y_teste = train_test_split(X, y, test_size = 0.3)"
   ]
  },
  {
   "cell_type": "markdown",
   "metadata": {},
   "source": [
    "### Criar um estimador do tipo Regressão Linear\n",
    "\n",
    "- Vamos criar um objeto de regressão linear, o qual usaremos para treinar um modelo com os dados de treinamento\n",
    "- Com este mesmo objeto, será validado este modelo com os dados de teste"
   ]
  },
  {
   "cell_type": "code",
   "execution_count": 72,
   "metadata": {},
   "outputs": [],
   "source": [
    "# Criar estimador de Regressão Linear\n",
    "modelo = linear_model.LinearRegression()"
   ]
  },
  {
   "cell_type": "markdown",
   "metadata": {},
   "source": [
    "### Treinar o modelo, informando a variável preditora (X) e variável resposta (y)\n",
    "\n",
    "Na maioria dos casos, o método **fit** é o método que faz o treinamento do modelo"
   ]
  },
  {
   "cell_type": "code",
   "execution_count": 75,
   "metadata": {},
   "outputs": [
    {
     "name": "stdout",
     "output_type": "stream",
     "text": [
      "m = 0.8, b = 9.0\n",
      "Equação da reta: y = 0.8x + 9.0\n"
     ]
    }
   ],
   "source": [
    "# Fazer o treinamento do modelo\n",
    "modelo.fit(X_treinamento, y_treinamento)\n",
    "\n",
    "# Mostrar a equação da reta\n",
    "m = modelo.coef_[0][0]\n",
    "b = modelo.intercept_[0]\n",
    "print(f'm = {m:.1f}, b = {b:.1f}')\n",
    "print(f'Equação da reta: y = {m:.1f}x + {b:.1f}')"
   ]
  },
  {
   "cell_type": "markdown",
   "metadata": {},
   "source": [
    "### Mostrar a reta da equação, com os pontos\n",
    "\n",
    "Considerando a equação que o modelo gerou, vamos usar o matplotlib para mostrar a correlação entre X e Y e a reta\n",
    "Pra isso, usaremos os dados de teste"
   ]
  },
  {
   "cell_type": "code",
   "execution_count": 77,
   "metadata": {},
   "outputs": [
    {
     "data": {
      "image/png": "[encoded data removed]",
      "text/plain": [
       "<Figure size 432x288 with 1 Axes>"
      ]
     },
     "metadata": {
      "needs_background": "light"
     },
     "output_type": "display_data"
    }
   ],
   "source": [
    "# Scatter plot da altura e peso de cada pessoa\n",
    "plt.scatter(X_teste, y_teste, color='black')\n",
    "\n",
    "# Gráfico de linha \n",
    "predicted_values = modelo.predict(X_teste)\n",
    "plt.plot(X_teste, predicted_values, color='blue')\n",
    "plt.xlabel('Temp. Média')\n",
    "plt.ylabel('Consumo')\n",
    "\n",
    "plt.show()"
   ]
  },
  {
   "cell_type": "code",
   "execution_count": 80,
   "metadata": {},
   "outputs": [
    {
     "data": {
      "text/plain": [
       "0.3821059159712117"
      ]
     },
     "execution_count": 80,
     "metadata": {},
     "output_type": "execute_result"
    }
   ],
   "source": [
    "# Mostrar o score (acurácia) do modelo\n",
    "modelo.score(X_teste, y_teste)"
   ]
  }
 ],
 "metadata": {
  "kernelspec": {
   "display_name": "Python 3",
   "language": "python",
   "name": "python3"
  },
  "language_info": {
   "codemirror_mode": {
    "name": "ipython",
    "version": 3
   },
   "file_extension": ".py",
   "mimetype": "text/x-python",
   "name": "python",
   "nbconvert_exporter": "python",
   "pygments_lexer": "ipython3",
   "version": "3.7.4"
  }
 },
 "nbformat": 4,
 "nbformat_minor": 4
}
