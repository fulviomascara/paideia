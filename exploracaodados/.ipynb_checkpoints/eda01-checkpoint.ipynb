{
 "cells": [
  {
   "cell_type": "code",
   "execution_count": null,
   "metadata": {},
   "outputs": [],
   "source": [
    "# importar bibliotecas necessárias\n",
    "import pandas as pd\n",
    "import matplotlib.pyplot as plt\n",
    "import seaborn as sns\n",
    "import numpy as np"
   ]
  },
  {
   "cell_type": "code",
   "execution_count": null,
   "metadata": {},
   "outputs": [],
   "source": [
    "# setar configurações\n",
    "%matplotlib inline\n",
    "pd.options.display.max_rows = 6000\n",
    "pd.options.display.max_columns = 999"
   ]
  },
  {
   "cell_type": "code",
   "execution_count": null,
   "metadata": {},
   "outputs": [],
   "source": [
    "# carregar o dataframe df_brcities com o arquivo BRAZIL_CITIES.csv\n",
    "df_brcities = pd.read_csv(\"../datasets/BRAZIL_CITIES.csv\", sep = \";\", thousands = ',')"
   ]
  },
  {
   "cell_type": "code",
   "execution_count": null,
   "metadata": {},
   "outputs": [],
   "source": [
    "# Agrupar e contar as cidades por Estado, gerando uma Serie\n",
    "sr_cidadesporestado = df_brcities.groupby(['STATE'])['CITY'].count()\n",
    "\n",
    "# Grafico de Barras Verticais, contando Cidades por Estado, usando Pandas (Sintaxe 1)\n",
    "barplot1 = sr_cidadesporestado.plot(kind='bar', color='red', figsize=(12,8))\n",
    "barplot1.set(xlabel=\"UF\", ylabel=\"Quantidade de Cidades\", title='Cidades por UF')"
   ]
  },
  {
   "cell_type": "code",
   "execution_count": null,
   "metadata": {},
   "outputs": [],
   "source": [
    "# Grafico de Barras Verticais, contando Cidades por Estado, usando Seaborn com Countplot\n",
    "\n",
    "# Opcional: Darkgrid\n",
    "sns.set(style=\"darkgrid\")\n",
    "\n",
    "plt.figure(figsize=(15,16))\n",
    "snsbar1 = sns.countplot(data=df_brcities, x='STATE')\n",
    "snsbar1.set(xlabel='UF', ylabel='Quantidade de Cidades', title='Cidades por UF')"
   ]
  },
  {
   "cell_type": "code",
   "execution_count": null,
   "metadata": {},
   "outputs": [],
   "source": [
    "# Gráfico de Barras Horizontais por Característica de Cidade, usando Pandas (Sintaxe 2)\n",
    "barplot2 = df_brcities.RURAL_URBAN.value_counts().plot(kind='barh', color='green', figsize=(12,8))\n",
    "barplot2.set(xlabel=\"Característica\", ylabel=\"Quantidade de Cidades\", title='Cidades por Característica')"
   ]
  },
  {
   "cell_type": "code",
   "execution_count": null,
   "metadata": {},
   "outputs": [],
   "source": [
    "# Gráfico de Barras Horizontais por Característica de Cidade, usando Seaborn\n",
    "\n",
    "# Agrupar e contar as cidades por RURAL_URBAN, gerando uma Serie\n",
    "sr_cidadesporcaract = df_brcities.groupby(['RURAL_URBAN'])['CITY'].count()\n",
    "df_cidadesporcaract = sr_cidadesporcaract.to_frame()\n",
    "\n",
    "plt.figure(figsize=(12,8))\n",
    "snsbar2 = sns.barplot(data = df_cidadesporcaract.reset_index(), x = 'CITY', y = 'RURAL_URBAN')\n",
    "snsbar2.set(xlabel=\"Característica\", ylabel=\"Quantidade de Cidades\", title='Cidades por Característica')"
   ]
  },
  {
   "cell_type": "code",
   "execution_count": null,
   "metadata": {},
   "outputs": [],
   "source": [
    "# Agrupar e tirar a média de IDHM, IDHM_Renda, IDHM_Longevidade, IDHM_Educacao por Estado (Região Sul), gerando um Dataframe\n",
    "df_idhm = df_brcities[(df_brcities['STATE'] == 'PR') | (df_brcities['STATE'] == 'SC') | (df_brcities['STATE'] == 'RS')].groupby(['STATE'])['IDHM', 'IDHM_Renda', 'IDHM_Longevidade', 'IDHM_Educacao'].mean()\n",
    "\n",
    "# Gráfico de Barras Verticais com mais de uma Serie = Média de IDHM, IDHM_Renda, IDHM_Longevidade, IDHM_Educacao) - Usando Pandas\n",
    "barplot3 = df_idhm.plot(kind='bar', figsize=(12,8))\n",
    "barplot3.set(xlabel=\"UF\", ylabel=\"Média\", title='Média IDHM - Região Sul')"
   ]
  },
  {
   "cell_type": "code",
   "execution_count": null,
   "metadata": {},
   "outputs": [],
   "source": [
    "# Gráfico de Barras Verticais com mais de uma Serie = Média de IDHM, IDHM_Renda, IDHM_Longevidade, IDHM_Educacao) - Usando Seaborn\n",
    "\n",
    "# Fazer Reshape do Dataframe para o Seaborn\n",
    "df_idhm = df_idhm.reset_index()\n",
    "df_idhm_reshaped = df_idhm.melt(id_vars='STATE').rename(columns=str.title)\n",
    "\n",
    "plt.figure(figsize=(12,8))\n",
    "snsbar3 = sns.barplot(x='State', y='Value', hue='Variable', data=df_idhm_reshaped)\n",
    "snsbar3.set(xlabel=\"UF\", ylabel=\"Média\", title='Média IDHM - Região Sul')"
   ]
  },
  {
   "cell_type": "code",
   "execution_count": null,
   "metadata": {},
   "outputs": [],
   "source": [
    "# Histograma da variável GDP_CAPITA - Usando Pandas\n",
    "\n",
    "# Preencher valores nulos com média\n",
    "df_brcities['GDP_CAPITA'].fillna(df_brcities['GDP_CAPITA'].mean(), inplace = True)\n",
    "\n",
    "histplot1 = df_brcities['GDP_CAPITA'].hist(color='red', bins=30, figsize=(12,8))\n",
    "histplot1.set(xlabel=\"GDP per capita\", ylabel=\"Quantidade Cidades\", title='Indice GDP per Capita')"
   ]
  },
  {
   "cell_type": "code",
   "execution_count": null,
   "metadata": {},
   "outputs": [],
   "source": [
    "# Histograma por GDP_CAPITA - Usando Seaborn\n",
    "\n",
    "plt.figure(figsize=(12,8))\n",
    "\n",
    "snsdist1 = sns.distplot(df_brcities.GDP_CAPITA, color=\"seagreen\", bins=30, hist=True, kde=False)\n",
    "snsdist1.set(xlabel=\"GDP per capita\", ylabel=\"Quantidade Cidades\", title='Indice GDP per Capita')"
   ]
  },
  {
   "cell_type": "code",
   "execution_count": null,
   "metadata": {},
   "outputs": [],
   "source": [
    "# Gráfico de Dispersão (Scatterplot) entre as variáveis IDHM e GDP_CAPITA (PIB per capita), usando Pandas\n",
    "\n",
    "df_idhm_pib = df_brcities.groupby(['STATE'])['IDHM', 'GDP_CAPITA'].mean()\n",
    "\n",
    "scatplot1 = df_idhm_pib.plot.scatter(x=\"IDHM\", y=\"GDP_CAPITA\", figsize=(12,8))\n",
    "scatplot1.set(xlabel=\"IDHM\", ylabel=\"PIB per capita\", title='Relação entre IDHM e PIB per Capita')"
   ]
  },
  {
   "cell_type": "code",
   "execution_count": null,
   "metadata": {},
   "outputs": [],
   "source": [
    "# Gráfico de Dispersão (Scatterplot) entre as variáveis IDHM e GDP_CAPITA (PIB per capita), usando Seaborn\n",
    "\n",
    "plt.figure(figsize=(12,8))\n",
    "snsscat1 = sns.scatterplot(data=df_idhm_pib, x=\"IDHM\", y=\"GDP_CAPITA\")\n",
    "snsscat1.set(xlabel=\"IDHM\", ylabel=\"PIB per capita\", title='Relação entre IDHM e PIB per Capita')"
   ]
  },
  {
   "cell_type": "code",
   "execution_count": null,
   "metadata": {},
   "outputs": [],
   "source": [
    "# Gráfico de Dispersão (Scatterplot) entre as variáveis IDHM, GDP_CAPITA (PIB per capita) e Gastos Municipais, usando Pandas\n",
    "\n",
    "df_idhm_pib_comp = df_brcities.groupby(['RURAL_URBAN', 'STATE'])['IDHM', 'GDP_CAPITA', 'MUN_EXPENDIT'].mean()\n",
    "\n",
    "df_idhm_pib_comp = df_idhm_pib_comp.reset_index()\n",
    "\n",
    "snsscat2 = sns.relplot(data=df_idhm_pib_comp, x=\"IDHM\", y=\"GDP_CAPITA\", size='MUN_EXPENDIT', hue = 'RURAL_URBAN', height=12)\n",
    "snsscat2.set(xlabel=\"IDHM\", ylabel=\"PIB per capita\", title='Relação entre IDHM e PIB per Capita')"
   ]
  },
  {
   "cell_type": "code",
   "execution_count": null,
   "metadata": {},
   "outputs": [],
   "source": [
    "# Matrix de Correlação entre as variáveis de IDHM, usando Pandas e Matplotlib\n",
    "\n",
    "# Cria a matriz de correlação\n",
    "corr = df_idhm.corr()\n",
    "\n",
    "# Parametros do Grafico\n",
    "fig = plt.figure(figsize=(12,8))\n",
    "ax = fig.add_subplot(111)\n",
    "\n",
    "# Cria Labels pra apresentar\n",
    "labels = [c for c in corr.columns]  # traz nome das colunas\n",
    "\n",
    "# Visualiza, com barra de cores\n",
    "corrplot1 = ax.matshow(corr)\n",
    "fig.colorbar(corrplot1)\n",
    "\n",
    "ax.set_xticks(np.arange(len(labels)))  \n",
    "ax.set_yticks(np.arange(len(labels)))  \n",
    "ax.set_xticklabels(labels)  \n",
    "ax.set_yticklabels(labels)"
   ]
  },
  {
   "cell_type": "code",
   "execution_count": null,
   "metadata": {},
   "outputs": [],
   "source": [
    "# Matrix de Correlação entre as variáveis de IDHM, usando Seaborn\n",
    "\n",
    "plt.figure(figsize=(12,10))\n",
    "snscorr1 = sns.heatmap(corr, annot=True, vmin=0, vmax=1)"
   ]
  },
  {
   "cell_type": "code",
   "execution_count": null,
   "metadata": {},
   "outputs": [],
   "source": [
    "# Matrix de Correlação (Pairplot) entre as variáveis de IDHM, usando Seaborn\n",
    "\n",
    "sns.pairplot(corr)"
   ]
  },
  {
   "cell_type": "code",
   "execution_count": null,
   "metadata": {},
   "outputs": [],
   "source": [
    "# Boxplot das variáveis IDHM, usando Pandas\n",
    "plt.figure(figsize=(12,10))\n",
    "boxplot1 = df_brcities.boxplot(column=['IDHM', 'IDHM_Renda', 'IDHM_Longevidade', 'IDHM_Educacao'])\n",
    "boxplot1.set(xlabel=\"Variáveis\", ylabel=\"Índice\", title='Boxplot IDHM')"
   ]
  },
  {
   "cell_type": "code",
   "execution_count": null,
   "metadata": {},
   "outputs": [],
   "source": [
    "# Boxplot das variáveis IDHM, usando Seaborn\n",
    "plt.figure(figsize=(12,10))\n",
    "snsbox1 = sns.boxplot(data=pd.melt(df_idhm[['IDHM', 'IDHM_Renda', 'IDHM_Longevidade', 'IDHM_Educacao']]), x = 'variable', y = 'value')"
   ]
  },
  {
   "cell_type": "code",
   "execution_count": null,
   "metadata": {},
   "outputs": [],
   "source": [
    "# Boxplot da variável IDHM com UF como Categorias, usando Pandas\n",
    "boxplot2 = df_brcities.boxplot(column=['IDHM'], by='STATE', figsize=(12,10))\n",
    "boxplot2.set(xlabel=\"UF\", ylabel=\"Índice\", title='Boxplot IDHM por UF')"
   ]
  },
  {
   "cell_type": "code",
   "execution_count": null,
   "metadata": {},
   "outputs": [],
   "source": [
    "# Boxplot da variável IDHM com UF como Categorias, usando Seaborn\n",
    "plt.figure(figsize=(12,10))\n",
    "snsbox2 = sns.boxplot(data=df_brcities, x = 'STATE', y = 'IDHM')"
   ]
  },
  {
   "cell_type": "code",
   "execution_count": null,
   "metadata": {},
   "outputs": [],
   "source": [
    "# Violinplot das variáveis IDHM, usando Seaborn\n",
    "plt.figure(figsize=(12,10))\n",
    "snsviol1 = sns.violinplot(data=pd.melt(df_idhm[['IDHM', 'IDHM_Renda', 'IDHM_Longevidade', 'IDHM_Educacao']]), x = 'variable', y = 'value')\n",
    "snsviol1.set(xlabel=\"Variáveis\", ylabel=\"Índice\", title='Boxplot IDHM')"
   ]
  },
  {
   "cell_type": "code",
   "execution_count": null,
   "metadata": {},
   "outputs": [],
   "source": [
    "# Violinplot da variável IDHM com UF como Categorias, usando Seaborn\n",
    "plt.figure(figsize=(12,10))\n",
    "snsviol2 = sns.violinplot(data=df_brcities, x = 'STATE', y = 'IDHM')"
   ]
  }
 ],
 "metadata": {
  "kernelspec": {
   "display_name": "Python 3",
   "language": "python",
   "name": "python3"
  },
  "language_info": {
   "codemirror_mode": {
    "name": "ipython",
    "version": 3
   },
   "file_extension": ".py",
   "mimetype": "text/x-python",
   "name": "python",
   "nbconvert_exporter": "python",
   "pygments_lexer": "ipython3",
   "version": "3.7.4"
  }
 },
 "nbformat": 4,
 "nbformat_minor": 4
}
