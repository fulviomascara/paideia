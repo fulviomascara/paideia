{
 "cells": [
  {
   "cell_type": "code",
   "execution_count": 1,
   "metadata": {},
   "outputs": [],
   "source": [
    "# importar bibliotecas necessárias\n",
    "import tweepy as tw\n",
    "import pandas as pd\n",
    "import matplotlib.pyplot as plt\n",
    "%matplotlib inline"
   ]
  },
  {
   "cell_type": "code",
   "execution_count": 2,
   "metadata": {},
   "outputs": [],
   "source": [
    "# variaveis para conexão com API do Twitter\n",
    "consumer_key = 'dvbJB2IPoLa4jZPlavGpuKIn9'\n",
    "consumer_secret = 'uKSAfraQ0zsgcNAdKU6NuIQPAZ2wBY7fVZkmj78NnFlxmtGyNr'\n",
    "access_token = '74058389-ndj9fbJthVwJopbWgpxpyZHVrOp9tPUWnItfPzWHe'\n",
    "access_token_secret = 'KtE3dXVVacKq4l9pS93guLgLTncYnSRu0eRjG69TTjzRd'"
   ]
  },
  {
   "cell_type": "code",
   "execution_count": 5,
   "metadata": {},
   "outputs": [],
   "source": [
    "# Solicitar autorização para acessar a API do Twitter\n",
    "auth = tw.OAuthHandler(consumer_key, consumer_secret)\n",
    "auth.set_access_token(access_token, access_token_secret)\n",
    "api = tw.API(auth, wait_on_rate_limit=True)"
   ]
  },
  {
   "cell_type": "code",
   "execution_count": 6,
   "metadata": {},
   "outputs": [],
   "source": [
    "# Definir termo de busca de tweets e data inicio\n",
    "termo_busca = '#stf'\n",
    "data_inicio = '2019-11-01'"
   ]
  },
  {
   "cell_type": "code",
   "execution_count": 43,
   "metadata": {},
   "outputs": [],
   "source": [
    "# Buscar Tweets com base no termo de busca e data inicio\n",
    "tweets = tw.Cursor(\n",
    "    api.search,\n",
    "    q=termo_busca,\n",
    "    lang='pt-br',\n",
    "    since=data_inicio).items(10)"
   ]
  },
  {
   "cell_type": "code",
   "execution_count": 44,
   "metadata": {},
   "outputs": [
    {
     "data": {
      "text/plain": [
       "<tweepy.cursor.ItemIterator at 0x118516ad0>"
      ]
     },
     "execution_count": 44,
     "metadata": {},
     "output_type": "execute_result"
    }
   ],
   "source": [
    "tweets\n",
    "# https://gist.github.com/dev-techmoe/ef676cdd03ac47ac503e856282077bf2"
   ]
  },
  {
   "cell_type": "code",
   "execution_count": 28,
   "metadata": {},
   "outputs": [
    {
     "name": "stdout",
     "output_type": "stream",
     "text": [
      "RT @giannazioficial: Se a família presidencial Surreal Brasileira quer comentar decisões do #STF sem demagogia ou hipocrisia, deve começar…\n",
      "RT @brasil_keno: Foi \"pro\" supremo!! #vergonhastf #STFVergonhaNacional #STF #STFEscritorioDoCrime #LulaLivre https://t.co/go55ur2UH2\n",
      "RT @massacrelandia: Uma mistura de nojo com vergonha desse #STF ; Estão lá a serviço do banditismo brasileiro!  #STFVergonhaNacional https:…\n",
      "RT @RHPozzobon: BRASIL, 07 de novembro de 2019: o #STF decidiu por 6 x 5 proibir a prisão por condenação em segunda instância.\n",
      "\n",
      "Já chovem H…\n",
      "RT @Oficialluizlima: Seguimos em frente ao STF em protesto. Não permitir a prisão em 2ª instância é proteger bandido. A gente quer um país…\n",
      "RT @RHPozzobon: BRASIL, 07 de novembro de 2019: o #STF decidiu por 6 x 5 proibir a prisão por condenação em segunda instância.\n",
      "\n",
      "Já chovem H…\n",
      "RT @WalterDiasNY: #STFlixo UMA VERDADEIRA ESCULHAMBAÇÃO ... Quando esses bandidos do #STF  SERÃO ENJAULADOS❓\n",
      "@jose_neumanne \n",
      "@BolsonaroSP…\n",
      "RT @RHPozzobon: BRASIL, 07 de novembro de 2019: o #STF decidiu por 6 x 5 proibir a prisão por condenação em segunda instância.\n",
      "\n",
      "Já chovem H…\n",
      "RT @ViniciusPoit: A decisão do #STF, hoje, derrubou a prisão em 2ª instância. \n",
      "\n",
      "Trabalharemos, na Câmara, para exercer a NOSSA competência…\n",
      "RT @ProfessoraVp: #STF Vergonha! Vergonha! Vergonha! De Gaulle tinha razão: \"O Brasil não é um país sério!\"\n"
     ]
    }
   ],
   "source": [
    "# visualizar Tweets\n",
    "for t in tweets:\n",
    "    print(tweet.text)"
   ]
  },
  {
   "cell_type": "code",
   "execution_count": 45,
   "metadata": {},
   "outputs": [],
   "source": [
    "# montar um array com alguns campos do tweet\n",
    "array_tweets = [[tweet.id, tweet.created_at, tweet.user.screen_name, tweet.retweeted, tweet.text] for tweet in tweets]"
   ]
  },
  {
   "cell_type": "code",
   "execution_count": 46,
   "metadata": {},
   "outputs": [],
   "source": [
    "df_tweets = pd.DataFrame(data=array_tweets, columns = ['id', 'data_criacao', 'nome_usuario', 'retweet', 'texto'])"
   ]
  },
  {
   "cell_type": "code",
   "execution_count": 51,
   "metadata": {},
   "outputs": [
    {
     "data": {
      "text/html": [
       "<div>\n",
       "<style scoped>\n",
       "    .dataframe tbody tr th:only-of-type {\n",
       "        vertical-align: middle;\n",
       "    }\n",
       "\n",
       "    .dataframe tbody tr th {\n",
       "        vertical-align: top;\n",
       "    }\n",
       "\n",
       "    .dataframe thead th {\n",
       "        text-align: right;\n",
       "    }\n",
       "</style>\n",
       "<table border=\"1\" class=\"dataframe\">\n",
       "  <thead>\n",
       "    <tr style=\"text-align: right;\">\n",
       "      <th></th>\n",
       "      <th>id</th>\n",
       "      <th>data_criacao</th>\n",
       "      <th>nome_usuario</th>\n",
       "      <th>retweet</th>\n",
       "      <th>texto</th>\n",
       "    </tr>\n",
       "  </thead>\n",
       "  <tbody>\n",
       "    <tr>\n",
       "      <th>0</th>\n",
       "      <td>1192812234822602753</td>\n",
       "      <td>2019-11-08 14:32:52</td>\n",
       "      <td>EdCarlos050818</td>\n",
       "      <td>False</td>\n",
       "      <td>RT @RHPozzobon: BRASIL, 07 de novembro de 2019: o #STF decidiu por 6 x 5 proibir a prisão por condenação em segunda instância.\\n\\nJá chovem H…</td>\n",
       "    </tr>\n",
       "    <tr>\n",
       "      <th>1</th>\n",
       "      <td>1192812192090996736</td>\n",
       "      <td>2019-11-08 14:32:42</td>\n",
       "      <td>rowlobo</td>\n",
       "      <td>False</td>\n",
       "      <td>contra:\\ntoffoli (l)\\ncelso d mello (sarney)\\ngilmar mendes (fhc)\\nmarco aurélio (collor)\\nrosa weber (d)\\nlewandowski (l… https://t.co/o1I5Oel24m</td>\n",
       "    </tr>\n",
       "    <tr>\n",
       "      <th>2</th>\n",
       "      <td>1192812181638828035</td>\n",
       "      <td>2019-11-08 14:32:40</td>\n",
       "      <td>Rubens09338797</td>\n",
       "      <td>False</td>\n",
       "      <td>RT @RHPozzobon: BRASIL, 07 de novembro de 2019: o #STF decidiu por 6 x 5 proibir a prisão por condenação em segunda instância.\\n\\nJá chovem H…</td>\n",
       "    </tr>\n",
       "    <tr>\n",
       "      <th>3</th>\n",
       "      <td>1192812096934821889</td>\n",
       "      <td>2019-11-08 14:32:19</td>\n",
       "      <td>OGBarboza</td>\n",
       "      <td>False</td>\n",
       "      <td>Gente do Céu. e essa bagunça do #STF? Só observo kkkkkk</td>\n",
       "    </tr>\n",
       "    <tr>\n",
       "      <th>4</th>\n",
       "      <td>1192812014336385024</td>\n",
       "      <td>2019-11-08 14:32:00</td>\n",
       "      <td>Madaparavidino</td>\n",
       "      <td>False</td>\n",
       "      <td>Agora, por meio de uma interpretação teleológica do #stf não estarão soltos os inocentes, mas os corruptos, os pode… https://t.co/paaudF7ZhV</td>\n",
       "    </tr>\n",
       "    <tr>\n",
       "      <th>5</th>\n",
       "      <td>1192811994807705600</td>\n",
       "      <td>2019-11-08 14:31:55</td>\n",
       "      <td>thiagobohn</td>\n",
       "      <td>False</td>\n",
       "      <td>RT @RHPozzobon: BRASIL, 07 de novembro de 2019: o #STF decidiu por 6 x 5 proibir a prisão por condenação em segunda instância.\\n\\nJá chovem H…</td>\n",
       "    </tr>\n",
       "    <tr>\n",
       "      <th>6</th>\n",
       "      <td>1192811954940923905</td>\n",
       "      <td>2019-11-08 14:31:46</td>\n",
       "      <td>wagnermota75</td>\n",
       "      <td>False</td>\n",
       "      <td>#STFEscritorioDoCrime \\nComo pode uma suprema corte, votar por soltar criminosos?\\nSó quando os 11 ministros do #STF… https://t.co/qBKc14ngXL</td>\n",
       "    </tr>\n",
       "    <tr>\n",
       "      <th>7</th>\n",
       "      <td>1192811852335632384</td>\n",
       "      <td>2019-11-08 14:31:21</td>\n",
       "      <td>ThaynaJpg</td>\n",
       "      <td>False</td>\n",
       "      <td>RT @AkodOficial: Vamos as ruas como sempre fizemos, e não vamos deixar essa bandeira ser vermelha... DE SANGUE BRASILEIRO.\\n\\n#stf  #lulalivr…</td>\n",
       "    </tr>\n",
       "    <tr>\n",
       "      <th>8</th>\n",
       "      <td>1192811810656804864</td>\n",
       "      <td>2019-11-08 14:31:11</td>\n",
       "      <td>Luitzr</td>\n",
       "      <td>False</td>\n",
       "      <td>RT @RHPozzobon: BRASIL, 07 de novembro de 2019: o #STF decidiu por 6 x 5 proibir a prisão por condenação em segunda instância.\\n\\nJá chovem H…</td>\n",
       "    </tr>\n",
       "    <tr>\n",
       "      <th>9</th>\n",
       "      <td>1192811796056465409</td>\n",
       "      <td>2019-11-08 14:31:08</td>\n",
       "      <td>LeitorMarcos</td>\n",
       "      <td>False</td>\n",
       "      <td>RT @RHPozzobon: BRASIL, 07 de novembro de 2019: o #STF decidiu por 6 x 5 proibir a prisão por condenação em segunda instância.\\n\\nJá chovem H…</td>\n",
       "    </tr>\n",
       "  </tbody>\n",
       "</table>\n",
       "</div>"
      ],
      "text/plain": [
       "                    id        data_criacao    nome_usuario  retweet                                                                                                                                               texto\n",
       "0  1192812234822602753 2019-11-08 14:32:52  EdCarlos050818  False    RT @RHPozzobon: BRASIL, 07 de novembro de 2019: o #STF decidiu por 6 x 5 proibir a prisão por condenação em segunda instância.\\n\\nJá chovem H…    \n",
       "1  1192812192090996736 2019-11-08 14:32:42  rowlobo         False    contra:\\ntoffoli (l)\\ncelso d mello (sarney)\\ngilmar mendes (fhc)\\nmarco aurélio (collor)\\nrosa weber (d)\\nlewandowski (l… https://t.co/o1I5Oel24m\n",
       "2  1192812181638828035 2019-11-08 14:32:40  Rubens09338797  False    RT @RHPozzobon: BRASIL, 07 de novembro de 2019: o #STF decidiu por 6 x 5 proibir a prisão por condenação em segunda instância.\\n\\nJá chovem H…    \n",
       "3  1192812096934821889 2019-11-08 14:32:19  OGBarboza       False    Gente do Céu. e essa bagunça do #STF? Só observo kkkkkk                                                                                           \n",
       "4  1192812014336385024 2019-11-08 14:32:00  Madaparavidino  False    Agora, por meio de uma interpretação teleológica do #stf não estarão soltos os inocentes, mas os corruptos, os pode… https://t.co/paaudF7ZhV      \n",
       "5  1192811994807705600 2019-11-08 14:31:55  thiagobohn      False    RT @RHPozzobon: BRASIL, 07 de novembro de 2019: o #STF decidiu por 6 x 5 proibir a prisão por condenação em segunda instância.\\n\\nJá chovem H…    \n",
       "6  1192811954940923905 2019-11-08 14:31:46  wagnermota75    False    #STFEscritorioDoCrime \\nComo pode uma suprema corte, votar por soltar criminosos?\\nSó quando os 11 ministros do #STF… https://t.co/qBKc14ngXL     \n",
       "7  1192811852335632384 2019-11-08 14:31:21  ThaynaJpg       False    RT @AkodOficial: Vamos as ruas como sempre fizemos, e não vamos deixar essa bandeira ser vermelha... DE SANGUE BRASILEIRO.\\n\\n#stf  #lulalivr…    \n",
       "8  1192811810656804864 2019-11-08 14:31:11  Luitzr          False    RT @RHPozzobon: BRASIL, 07 de novembro de 2019: o #STF decidiu por 6 x 5 proibir a prisão por condenação em segunda instância.\\n\\nJá chovem H…    \n",
       "9  1192811796056465409 2019-11-08 14:31:08  LeitorMarcos    False    RT @RHPozzobon: BRASIL, 07 de novembro de 2019: o #STF decidiu por 6 x 5 proibir a prisão por condenação em segunda instância.\\n\\nJá chovem H…    "
      ]
     },
     "execution_count": 51,
     "metadata": {},
     "output_type": "execute_result"
    }
   ],
   "source": [
    "pd.set_option('display.max_rows', 500)\n",
    "pd.set_option('display.max_columns', 500)\n",
    "pd.set_option('display.width', 1000)\n",
    "df_tweets"
   ]
  }
 ],
 "metadata": {
  "kernelspec": {
   "display_name": "Python 3",
   "language": "python",
   "name": "python3"
  },
  "language_info": {
   "codemirror_mode": {
    "name": "ipython",
    "version": 3
   },
   "file_extension": ".py",
   "mimetype": "text/x-python",
   "name": "python",
   "nbconvert_exporter": "python",
   "pygments_lexer": "ipython3",
   "version": "3.7.4"
  }
 },
 "nbformat": 4,
 "nbformat_minor": 4
}
