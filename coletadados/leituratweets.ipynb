{
 "cells": [
  {
   "cell_type": "code",
   "execution_count": 52,
   "metadata": {},
   "outputs": [],
   "source": [
    "# importar bibliotecas necessárias\n",
    "import tweepy as tw\n",
    "import pandas as pd\n",
    "import matplotlib.pyplot as plt\n",
    "%matplotlib inline"
   ]
  },
  {
   "cell_type": "code",
   "execution_count": 53,
   "metadata": {},
   "outputs": [],
   "source": [
    "# variaveis para conexão com API do Twitter\n",
    "consumer_key = 'dvbJB2IPoLa4jZPlavGpuKIn9'\n",
    "consumer_secret = 'uKSAfraQ0zsgcNAdKU6NuIQPAZ2wBY7fVZkmj78NnFlxmtGyNr'\n",
    "access_token = '74058389-ndj9fbJthVwJopbWgpxpyZHVrOp9tPUWnItfPzWHe'\n",
    "access_token_secret = 'KtE3dXVVacKq4l9pS93guLgLTncYnSRu0eRjG69TTjzRd'"
   ]
  },
  {
   "cell_type": "code",
   "execution_count": 54,
   "metadata": {},
   "outputs": [],
   "source": [
    "# Solicitar autorização para acessar a API do Twitter\n",
    "auth = tw.OAuthHandler(consumer_key, consumer_secret)\n",
    "auth.set_access_token(access_token, access_token_secret)\n",
    "api = tw.API(auth, wait_on_rate_limit=True)"
   ]
  },
  {
   "cell_type": "code",
   "execution_count": 55,
   "metadata": {},
   "outputs": [],
   "source": [
    "# Definir termo de busca de tweets e data inicio\n",
    "termo_busca = '#stf'\n",
    "data_inicio = '2019-11-01'"
   ]
  },
  {
   "cell_type": "code",
   "execution_count": 56,
   "metadata": {},
   "outputs": [],
   "source": [
    "# Buscar Tweets com base no termo de busca e data inicio\n",
    "tweets = tw.Cursor(\n",
    "    api.search,\n",
    "    q=termo_busca,\n",
    "    lang='pt-br',\n",
    "    since=data_inicio).items(10)"
   ]
  },
  {
   "cell_type": "code",
   "execution_count": 44,
   "metadata": {},
   "outputs": [
    {
     "data": {
      "text/plain": [
       "<tweepy.cursor.ItemIterator at 0x118516ad0>"
      ]
     },
     "execution_count": 44,
     "metadata": {},
     "output_type": "execute_result"
    }
   ],
   "source": [
    "tweets\n",
    "# https://gist.github.com/dev-techmoe/ef676cdd03ac47ac503e856282077bf2"
   ]
  },
  {
   "cell_type": "code",
   "execution_count": 28,
   "metadata": {},
   "outputs": [
    {
     "name": "stdout",
     "output_type": "stream",
     "text": [
      "RT @giannazioficial: Se a família presidencial Surreal Brasileira quer comentar decisões do #STF sem demagogia ou hipocrisia, deve começar…\n",
      "RT @brasil_keno: Foi \"pro\" supremo!! #vergonhastf #STFVergonhaNacional #STF #STFEscritorioDoCrime #LulaLivre https://t.co/go55ur2UH2\n",
      "RT @massacrelandia: Uma mistura de nojo com vergonha desse #STF ; Estão lá a serviço do banditismo brasileiro!  #STFVergonhaNacional https:…\n",
      "RT @RHPozzobon: BRASIL, 07 de novembro de 2019: o #STF decidiu por 6 x 5 proibir a prisão por condenação em segunda instância.\n",
      "\n",
      "Já chovem H…\n",
      "RT @Oficialluizlima: Seguimos em frente ao STF em protesto. Não permitir a prisão em 2ª instância é proteger bandido. A gente quer um país…\n",
      "RT @RHPozzobon: BRASIL, 07 de novembro de 2019: o #STF decidiu por 6 x 5 proibir a prisão por condenação em segunda instância.\n",
      "\n",
      "Já chovem H…\n",
      "RT @WalterDiasNY: #STFlixo UMA VERDADEIRA ESCULHAMBAÇÃO ... Quando esses bandidos do #STF  SERÃO ENJAULADOS❓\n",
      "@jose_neumanne \n",
      "@BolsonaroSP…\n",
      "RT @RHPozzobon: BRASIL, 07 de novembro de 2019: o #STF decidiu por 6 x 5 proibir a prisão por condenação em segunda instância.\n",
      "\n",
      "Já chovem H…\n",
      "RT @ViniciusPoit: A decisão do #STF, hoje, derrubou a prisão em 2ª instância. \n",
      "\n",
      "Trabalharemos, na Câmara, para exercer a NOSSA competência…\n",
      "RT @ProfessoraVp: #STF Vergonha! Vergonha! Vergonha! De Gaulle tinha razão: \"O Brasil não é um país sério!\"\n"
     ]
    }
   ],
   "source": [
    "# visualizar Tweets\n",
    "for t in tweets:\n",
    "    print(tweet.text)"
   ]
  },
  {
   "cell_type": "code",
   "execution_count": 57,
   "metadata": {},
   "outputs": [],
   "source": [
    "# montar um array com alguns campos do tweet\n",
    "array_tweets = [[tweet.id, tweet.created_at, tweet.user.screen_name, tweet.retweeted, tweet.text] for tweet in tweets]"
   ]
  },
  {
   "cell_type": "code",
   "execution_count": 59,
   "metadata": {},
   "outputs": [],
   "source": [
    "df_tweets = pd.DataFrame(data=array_tweets, columns = ['id', 'data_criacao', 'nome_usuario', 'retweet', 'texto'])"
   ]
  },
  {
   "cell_type": "code",
   "execution_count": 60,
   "metadata": {},
   "outputs": [
    {
     "data": {
      "text/html": [
       "<div>\n",
       "<style scoped>\n",
       "    .dataframe tbody tr th:only-of-type {\n",
       "        vertical-align: middle;\n",
       "    }\n",
       "\n",
       "    .dataframe tbody tr th {\n",
       "        vertical-align: top;\n",
       "    }\n",
       "\n",
       "    .dataframe thead th {\n",
       "        text-align: right;\n",
       "    }\n",
       "</style>\n",
       "<table border=\"1\" class=\"dataframe\">\n",
       "  <thead>\n",
       "    <tr style=\"text-align: right;\">\n",
       "      <th></th>\n",
       "      <th>id</th>\n",
       "      <th>data_criacao</th>\n",
       "      <th>nome_usuario</th>\n",
       "      <th>retweet</th>\n",
       "      <th>texto</th>\n",
       "    </tr>\n",
       "  </thead>\n",
       "  <tbody>\n",
       "    <tr>\n",
       "      <th>0</th>\n",
       "      <td>1192902855360991239</td>\n",
       "      <td>2019-11-08 20:32:58</td>\n",
       "      <td>ladyvicspanhol1</td>\n",
       "      <td>False</td>\n",
       "      <td>RT @Hedilbe49136857: Vamos agradecer ao #STF corrupto e seus ministros que acabaram de soltar o maior bandido desse pais tudo para que o pa…</td>\n",
       "    </tr>\n",
       "    <tr>\n",
       "      <th>1</th>\n",
       "      <td>1192902721646534656</td>\n",
       "      <td>2019-11-08 20:32:26</td>\n",
       "      <td>RobsonS19800622</td>\n",
       "      <td>False</td>\n",
       "      <td>RT @ViniciusPoit: A decisão do #STF, hoje, derrubou a prisão em 2ª instância. \\n\\nTrabalharemos, na Câmara, para exercer a NOSSA competência…</td>\n",
       "    </tr>\n",
       "    <tr>\n",
       "      <th>2</th>\n",
       "      <td>1192902655905030144</td>\n",
       "      <td>2019-11-08 20:32:10</td>\n",
       "      <td>joaquim_fanton</td>\n",
       "      <td>False</td>\n",
       "      <td>RT @ViniciusPoit: A decisão do #STF, hoje, derrubou a prisão em 2ª instância. \\n\\nTrabalharemos, na Câmara, para exercer a NOSSA competência…</td>\n",
       "    </tr>\n",
       "    <tr>\n",
       "      <th>3</th>\n",
       "      <td>1192902623244029952</td>\n",
       "      <td>2019-11-08 20:32:03</td>\n",
       "      <td>danbritomendes</td>\n",
       "      <td>False</td>\n",
       "      <td>RT @RicardoMellaoSP: Na ONU, 193 dos 194 países têm prisão em 1ª ou 2ª instância. Desde 2016, o STF vinha firmando sua posição favorável a…</td>\n",
       "    </tr>\n",
       "    <tr>\n",
       "      <th>4</th>\n",
       "      <td>1192902500631896071</td>\n",
       "      <td>2019-11-08 20:31:33</td>\n",
       "      <td>NaReALDoCTV</td>\n",
       "      <td>False</td>\n",
       "      <td>Escuta... Cadê lacrada do #Bolsonaro contra a decisão. Do #STF em relação a 2 instância? Cadê a promessa de campanh… https://t.co/9zEuU5D1Pz</td>\n",
       "    </tr>\n",
       "    <tr>\n",
       "      <th>5</th>\n",
       "      <td>1192902475982032896</td>\n",
       "      <td>2019-11-08 20:31:27</td>\n",
       "      <td>spparagringos</td>\n",
       "      <td>False</td>\n",
       "      <td>É mais fácil mudar uma lei ou provar a inocência com as vigentes? #LulaLivreAgora #LulaPreso #LulaInocente… https://t.co/e5fIggns8N</td>\n",
       "    </tr>\n",
       "    <tr>\n",
       "      <th>6</th>\n",
       "      <td>1192902451596267525</td>\n",
       "      <td>2019-11-08 20:31:22</td>\n",
       "      <td>MartyellyMarian</td>\n",
       "      <td>False</td>\n",
       "      <td>RT @visao_tv: O ministro da Justiça e Segurança Pública, Sergio Moro, afirmou nesta sexta-feira (8) que o Congresso pode alterar a lei para…</td>\n",
       "    </tr>\n",
       "    <tr>\n",
       "      <th>7</th>\n",
       "      <td>1192902399947661314</td>\n",
       "      <td>2019-11-08 20:31:09</td>\n",
       "      <td>bananiaforever</td>\n",
       "      <td>False</td>\n",
       "      <td>RT @Oficialluizlima: Seguimos em frente ao STF em protesto. Não permitir a prisão em 2ª instância é proteger bandido. A gente quer um país…</td>\n",
       "    </tr>\n",
       "    <tr>\n",
       "      <th>8</th>\n",
       "      <td>1192902379290742784</td>\n",
       "      <td>2019-11-08 20:31:04</td>\n",
       "      <td>isavivs</td>\n",
       "      <td>False</td>\n",
       "      <td>RT @congemfoco: De acordo com força-tarefa, além de @LulaOficial, mais de 30 condenados poderão ser beneficiados com decisão do #STF. #Lula…</td>\n",
       "    </tr>\n",
       "    <tr>\n",
       "      <th>9</th>\n",
       "      <td>1192902373456396294</td>\n",
       "      <td>2019-11-08 20:31:03</td>\n",
       "      <td>AlandossantosL7</td>\n",
       "      <td>False</td>\n",
       "      <td>RT @ViniciusPoit: A decisão do #STF, hoje, derrubou a prisão em 2ª instância. \\n\\nTrabalharemos, na Câmara, para exercer a NOSSA competência…</td>\n",
       "    </tr>\n",
       "  </tbody>\n",
       "</table>\n",
       "</div>"
      ],
      "text/plain": [
       "                    id        data_criacao     nome_usuario  retweet                                                                                                                                          texto\n",
       "0  1192902855360991239 2019-11-08 20:32:58  ladyvicspanhol1  False    RT @Hedilbe49136857: Vamos agradecer ao #STF corrupto e seus ministros que acabaram de soltar o maior bandido desse pais tudo para que o pa… \n",
       "1  1192902721646534656 2019-11-08 20:32:26  RobsonS19800622  False    RT @ViniciusPoit: A decisão do #STF, hoje, derrubou a prisão em 2ª instância. \\n\\nTrabalharemos, na Câmara, para exercer a NOSSA competência…\n",
       "2  1192902655905030144 2019-11-08 20:32:10  joaquim_fanton   False    RT @ViniciusPoit: A decisão do #STF, hoje, derrubou a prisão em 2ª instância. \\n\\nTrabalharemos, na Câmara, para exercer a NOSSA competência…\n",
       "3  1192902623244029952 2019-11-08 20:32:03  danbritomendes   False    RT @RicardoMellaoSP: Na ONU, 193 dos 194 países têm prisão em 1ª ou 2ª instância. Desde 2016, o STF vinha firmando sua posição favorável a…  \n",
       "4  1192902500631896071 2019-11-08 20:31:33  NaReALDoCTV      False    Escuta... Cadê lacrada do #Bolsonaro contra a decisão. Do #STF em relação a 2 instância? Cadê a promessa de campanh… https://t.co/9zEuU5D1Pz \n",
       "5  1192902475982032896 2019-11-08 20:31:27  spparagringos    False    É mais fácil mudar uma lei ou provar a inocência com as vigentes? #LulaLivreAgora #LulaPreso #LulaInocente… https://t.co/e5fIggns8N          \n",
       "6  1192902451596267525 2019-11-08 20:31:22  MartyellyMarian  False    RT @visao_tv: O ministro da Justiça e Segurança Pública, Sergio Moro, afirmou nesta sexta-feira (8) que o Congresso pode alterar a lei para… \n",
       "7  1192902399947661314 2019-11-08 20:31:09  bananiaforever   False    RT @Oficialluizlima: Seguimos em frente ao STF em protesto. Não permitir a prisão em 2ª instância é proteger bandido. A gente quer um país…  \n",
       "8  1192902379290742784 2019-11-08 20:31:04  isavivs          False    RT @congemfoco: De acordo com força-tarefa, além de @LulaOficial, mais de 30 condenados poderão ser beneficiados com decisão do #STF. #Lula… \n",
       "9  1192902373456396294 2019-11-08 20:31:03  AlandossantosL7  False    RT @ViniciusPoit: A decisão do #STF, hoje, derrubou a prisão em 2ª instância. \\n\\nTrabalharemos, na Câmara, para exercer a NOSSA competência…"
      ]
     },
     "execution_count": 60,
     "metadata": {},
     "output_type": "execute_result"
    }
   ],
   "source": [
    "pd.set_option('display.max_rows', 500)\n",
    "pd.set_option('display.max_columns', 500)\n",
    "pd.set_option('display.width', 1000)\n",
    "df_tweets"
   ]
  },
  {
   "cell_type": "code",
   "execution_count": null,
   "metadata": {},
   "outputs": [],
   "source": []
  }
 ],
 "metadata": {
  "kernelspec": {
   "display_name": "Python 3",
   "language": "python",
   "name": "python3"
  },
  "language_info": {
   "codemirror_mode": {
    "name": "ipython",
    "version": 3
   },
   "file_extension": ".py",
   "mimetype": "text/x-python",
   "name": "python",
   "nbconvert_exporter": "python",
   "pygments_lexer": "ipython3",
   "version": "3.7.4"
  }
 },
 "nbformat": 4,
 "nbformat_minor": 4
}
